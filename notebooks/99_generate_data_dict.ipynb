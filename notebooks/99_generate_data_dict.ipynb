{
 "cells": [
  {
   "cell_type": "code",
   "execution_count": 1,
   "id": "bb060735-e607-47b1-bc44-7ca11a5b744d",
   "metadata": {},
   "outputs": [
    {
     "name": "stdout",
     "output_type": "stream",
     "text": [
      "Exception: 'Date'\n",
      "Exception: 'ticker'\n",
      "Exception: 'name'\n"
     ]
    }
   ],
   "source": [
    "import pandas as pd\n",
    "import warnings\n",
    "warnings.filterwarnings('ignore')\n",
    "\n",
    "df = pd.read_csv(\"../../datasets/raw/Coca_Cola_historical_data.csv\")\n",
    "columns = [column for column in df.columns]\n",
    "\n",
    "doc = [\"## • Data Dictionary\",\n",
    "       \"| features | dtype | mean value | standard deviation | min | max | description |\",\n",
    "       \"| :-: | :-: | :-: | :-: | :-: | :-: | :-: |\"]\n",
    "\n",
    "for column in columns:    \n",
    "    try:\n",
    "        descriptions = df.describe().loc[['mean', 'std', 'min', 'max']]\n",
    "        doc.append(f'| {column} | {df[column].dtype} | {descriptions.at[\"mean\", column]:.1f} | {descriptions.at[\"std\", column]:.1f} | {descriptions.at[\"min\", column]:.1f} | {descriptions.at[\"max\", column]:.1f} |  |')\n",
    "    \n",
    "    except Exception as e:\n",
    "        print(f\"Exception: {e}\")\n",
    "        doc.append(f\"| {column} | {df[column].dtype} | n/a | n/a | n/a | n/a |  |\")\n",
    "\n",
    "        \n",
    "doc_str = \"\\n\".join(doc)\n",
    "with open(\"../../docs/data_dictionary.md\", \"w+\") as file:\n",
    "    file.write(doc_str)"
   ]
  },
  {
   "cell_type": "code",
   "execution_count": null,
   "id": "c8c3e109-ffaf-45b5-85ee-facda75365a9",
   "metadata": {},
   "outputs": [],
   "source": []
  }
 ],
 "metadata": {
  "kernelspec": {
   "display_name": "Python 3 (ipykernel)",
   "language": "python",
   "name": "python3"
  },
  "language_info": {
   "codemirror_mode": {
    "name": "ipython",
    "version": 3
   },
   "file_extension": ".py",
   "mimetype": "text/x-python",
   "name": "python",
   "nbconvert_exporter": "python",
   "pygments_lexer": "ipython3",
   "version": "3.11.5"
  }
 },
 "nbformat": 4,
 "nbformat_minor": 5
}
